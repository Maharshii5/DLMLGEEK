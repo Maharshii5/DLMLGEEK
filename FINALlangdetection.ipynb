{
  "nbformat": 4,
  "nbformat_minor": 0,
  "metadata": {
    "colab": {
      "provenance": [],
      "authorship_tag": "ABX9TyPFGd6mpw/n+ao2kClNQKhx",
      "include_colab_link": true
    },
    "kernelspec": {
      "name": "python3",
      "display_name": "Python 3"
    },
    "language_info": {
      "name": "python"
    }
  },
  "cells": [
    {
      "cell_type": "markdown",
      "metadata": {
        "id": "view-in-github",
        "colab_type": "text"
      },
      "source": [
        "<a href=\"https://colab.research.google.com/github/Maharshii5/DLMLGEEK/blob/main/FINALlangdetection.ipynb\" target=\"_parent\"><img src=\"https://colab.research.google.com/assets/colab-badge.svg\" alt=\"Open In Colab\"/></a>"
      ]
    },
    {
      "cell_type": "code",
      "execution_count": 8,
      "metadata": {
        "colab": {
          "base_uri": "https://localhost:8080/"
        },
        "id": "_amzDJrvpViN",
        "outputId": "5428b4f6-e107-454a-c592-44b8fb7c1cf5"
      },
      "outputs": [
        {
          "output_type": "stream",
          "name": "stdout",
          "text": [
            "Hybrid Naive Bayes + XGBoost Model Accuracy: 0.9782398452611218\n"
          ]
        }
      ],
      "source": [
        "import pandas as pd\n",
        "import numpy as np\n",
        "import re\n",
        "import seaborn as sns\n",
        "import matplotlib.pyplot as plt\n",
        "import warnings\n",
        "from sklearn.svm import SVC\n",
        "from sklearn.pipeline import make_pipeline\n",
        "from sklearn.preprocessing import StandardScaler\n",
        "from sklearn.naive_bayes import MultinomialNB\n",
        "from sklearn.model_selection import train_test_split\n",
        "from sklearn.metrics import accuracy_score\n",
        "from sklearn.ensemble import RandomForestClassifier\n",
        "import xgboost as xgb\n",
        "warnings.simplefilter(\"ignore\")\n",
        "# Loading the dataset\n",
        "data = pd.read_csv(\"Language Detection.csv\")\n",
        "# value count for each language\n",
        "data[\"Language\"].value_counts()\n",
        "# separating the independent and dependant features\n",
        "X = data[\"Text\"]\n",
        "y = data[\"Language\"]\n",
        "# converting categorical variables to numerical\n",
        "from sklearn.preprocessing import LabelEncoder\n",
        "le = LabelEncoder()\n",
        "y = le.fit_transform(y)\n",
        "# creating a list for appending the preprocessed text\n",
        "data_list = []\n",
        "# iterating through all the text\n",
        "for text in X:\n",
        "    # removing the symbols and numbers\n",
        "    text = re.sub(r'[!@#$(),n\"%^*?:;~`0-9]', ' ', text)\n",
        "    text = re.sub(r'[[]]', ' ', text)\n",
        "    # converting the text to lower case\n",
        "    text = text.lower()\n",
        "    # appending to data_list\n",
        "    data_list.append(text)\n",
        "# creating bag of words using countvectorizer\n",
        "from sklearn.feature_extraction.text import CountVectorizer\n",
        "cv = CountVectorizer()\n",
        "X = cv.fit_transform(data_list).toarray()\n",
        "#train test splitting\n",
        "from sklearn.model_selection import train_test_split\n",
        "x_train, x_test, y_train, y_test = train_test_split(X, y, test_size = 0.20)\n",
        "#model creation and prediction\n",
        "from sklearn.naive_bayes import MultinomialNB\n",
        "nb_model = MultinomialNB()\n",
        "nb_model.fit(x_train, y_train)\n",
        "\n",
        "# Get probabilities from Naive Bayes\n",
        "x_train_nb = nb_model.predict_proba(x_train)\n",
        "x_test_nb = nb_model.predict_proba(x_test)\n",
        "\n",
        "# XGBoost model\n",
        "xgb_model = xgb.XGBClassifier(use_label_encoder=False, eval_metric='mlogloss')\n",
        "xgb_model.fit(x_train_nb, y_train)\n",
        "\n",
        "# Prediction using XGBoost\n",
        "y_pred_hybrid_xgb = xgb_model.predict(x_test_nb)\n",
        "\n",
        "# Evaluate the hybrid model\n",
        "accuracy_hybrid_xgb = accuracy_score(y_test, y_pred_hybrid_xgb)\n",
        "print(f'Hybrid Naive Bayes + XGBoost Model Accuracy: {accuracy_hybrid_xgb}')\n",
        "# nb_model = MultinomialNB()\n",
        "# nb_model.fit(x_train, y_train)\n",
        "\n",
        "# # Get probabilities from Naive Bayes\n",
        "# x_train_nb = nb_model.predict_proba(x_train)\n",
        "# x_test_nb = nb_model.predict_proba(x_test)\n",
        "\n",
        "# # Random Forest model\n",
        "# rf_model = RandomForestClassifier(n_estimators=100, random_state=42)\n",
        "# rf_model.fit(x_train_nb, y_train)\n",
        "\n",
        "# # Prediction using Random Forest\n",
        "# y_pred_hybrid_rf = rf_model.predict(x_test_nb)\n",
        "\n",
        "# # Evaluate the hybrid model\n",
        "# accuracy_hybrid_rf = accuracy_score(y_test, y_pred_hybrid_rf)\n",
        "# print(f'Hybrid Naive Bayes + Random Forest Model Accuracy: {accuracy_hybrid_rf}')\n",
        "# nb_model = MultinomialNB()\n",
        "# nb_model.fit(x_train, y_train)\n",
        "\n",
        "# # Get probabilities from Naive Bayes\n",
        "# x_train_nb = nb_model.predict_proba(x_train)\n",
        "# x_test_nb = nb_model.predict_proba(x_test)\n",
        "\n",
        "# # SVM model\n",
        "# svm_model = make_pipeline(StandardScaler(with_mean=False), SVC(kernel='linear', probability=True))\n",
        "# svm_model.fit(x_train_nb, y_train)\n",
        "\n",
        "# # Prediction using SVM\n",
        "# y_pred_hybrid = svm_model.predict(x_test_nb)\n",
        "\n",
        "# # Evaluate the hybrid model\n",
        "# accuracy_hybrid = accuracy_score(y_test, y_pred_hybrid)\n",
        "# print(f'Hybrid Model Accuracy: {accuracy_hybrid}')\n",
        "# model = MultinomialNB()\n",
        "# model.fit(x_train, y_train)\n",
        "# # prediction\n",
        "# y_pred = model.predict(x_test)\n",
        "# # model evaluation\n",
        "# from sklearn.metrics import accuracy_score, confusion_matrix\n",
        "# ac = accuracy_score(y_test, y_pred)\n",
        "# print(ac)\n",
        "# cm = confusion_matrix(y_test, y_pred)\n",
        "# # visualising the confusion matrix\n",
        "# plt.figure(figsize=(15,10))\n",
        "# sns.heatmap(cm, annot = True)\n",
        "# plt.show()\n",
        "# # function for predicting language\n",
        "# def predict(text):\n",
        "#     x = cv.transform([text]).toarray()\n",
        "#     lang = model.predict(x)\n",
        "#     lang = le.inverse_transform(lang)\n",
        "#     print(\"The langauge is in\",lang[0])\n"
      ]
    }
  ]
}