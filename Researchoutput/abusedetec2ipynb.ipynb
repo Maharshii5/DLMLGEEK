{
  "cells": [
    {
      "cell_type": "code",
      "execution_count": null,
      "metadata": {
        "colab": {
          "background_save": true,
          "base_uri": "https://localhost:8080/"
        },
        "id": "IiL6_1XRAVDv",
        "outputId": "85b12d64-7453-4e57-dbcb-5eda10a9262f"
      },
      "outputs": [
        {
          "name": "stderr",
          "output_type": "stream",
          "text": [
            "\r[*********************100%***********************]  1 of 1 completed\n"
          ]
        },
        {
          "name": "stdout",
          "output_type": "stream",
          "text": [
            "Price                        Adj Close        Close         High          Low  \\\n",
            "Ticker                     RELIANCE.NS  RELIANCE.NS  RELIANCE.NS  RELIANCE.NS   \n",
            "Date                                                                            \n",
            "2024-10-25 00:00:00+00:00  1327.849976  1327.849976  1344.349976  1322.000000   \n",
            "2024-10-28 00:00:00+00:00  1334.349976  1334.349976  1353.000000  1322.099976   \n",
            "2024-10-29 00:00:00+00:00  1340.000000  1340.000000  1343.199951  1320.300049   \n",
            "2024-10-30 00:00:00+00:00  1343.900024  1343.900024  1350.000000  1325.349976   \n",
            "2024-10-31 00:00:00+00:00  1332.050049  1332.050049  1343.000000  1326.150024   \n",
            "\n",
            "Price                             Open      Volume  \n",
            "Ticker                     RELIANCE.NS RELIANCE.NS  \n",
            "Date                                                \n",
            "2024-10-25 00:00:00+00:00  1343.500000    18597496  \n",
            "2024-10-28 00:00:00+00:00  1337.000000    10824350  \n",
            "2024-10-29 00:00:00+00:00  1328.099976    12008361  \n",
            "2024-10-30 00:00:00+00:00  1335.000000    11984423  \n",
            "2024-10-31 00:00:00+00:00  1340.000000     9331650  \n",
            "(3660, 6)\n",
            "Cross-validated RMSE: 0.01\n"
          ]
        },
        {
          "ename": "ValueError",
          "evalue": "non-broadcastable output operand with shape (718,1) doesn't match the broadcast shape (718,3)",
          "output_type": "error",
          "traceback": [
            "\u001b[0;31m---------------------------------------------------------------------------\u001b[0m",
            "\u001b[0;31mValueError\u001b[0m                                Traceback (most recent call last)",
            "\u001b[0;32m<ipython-input-2-243065b70564>\u001b[0m in \u001b[0;36m<cell line: 66>\u001b[0;34m()\u001b[0m\n\u001b[1;32m     64\u001b[0m \u001b[0;31m# Get predictions\u001b[0m\u001b[0;34m\u001b[0m\u001b[0;34m\u001b[0m\u001b[0m\n\u001b[1;32m     65\u001b[0m \u001b[0mpredictions\u001b[0m \u001b[0;34m=\u001b[0m \u001b[0mstacking_model\u001b[0m\u001b[0;34m.\u001b[0m\u001b[0mpredict\u001b[0m\u001b[0;34m(\u001b[0m\u001b[0mX_test\u001b[0m\u001b[0;34m.\u001b[0m\u001b[0mreshape\u001b[0m\u001b[0;34m(\u001b[0m\u001b[0mX_test\u001b[0m\u001b[0;34m.\u001b[0m\u001b[0mshape\u001b[0m\u001b[0;34m[\u001b[0m\u001b[0;36m0\u001b[0m\u001b[0;34m]\u001b[0m\u001b[0;34m,\u001b[0m \u001b[0;34m-\u001b[0m\u001b[0;36m1\u001b[0m\u001b[0;34m)\u001b[0m\u001b[0;34m)\u001b[0m\u001b[0;34m\u001b[0m\u001b[0;34m\u001b[0m\u001b[0m\n\u001b[0;32m---> 66\u001b[0;31m \u001b[0mpredictions\u001b[0m \u001b[0;34m=\u001b[0m \u001b[0mscaler\u001b[0m\u001b[0;34m.\u001b[0m\u001b[0minverse_transform\u001b[0m\u001b[0;34m(\u001b[0m\u001b[0mpredictions\u001b[0m\u001b[0;34m.\u001b[0m\u001b[0mreshape\u001b[0m\u001b[0;34m(\u001b[0m\u001b[0;34m-\u001b[0m\u001b[0;36m1\u001b[0m\u001b[0;34m,\u001b[0m \u001b[0;36m1\u001b[0m\u001b[0;34m)\u001b[0m\u001b[0;34m)\u001b[0m  \u001b[0;31m# Inverse the scaling\u001b[0m\u001b[0;34m\u001b[0m\u001b[0;34m\u001b[0m\u001b[0m\n\u001b[0m\u001b[1;32m     67\u001b[0m \u001b[0;34m\u001b[0m\u001b[0m\n\u001b[1;32m     68\u001b[0m \u001b[0;31m# Calculate metrics\u001b[0m\u001b[0;34m\u001b[0m\u001b[0;34m\u001b[0m\u001b[0m\n",
            "\u001b[0;32m/usr/local/lib/python3.10/dist-packages/sklearn/preprocessing/_data.py\u001b[0m in \u001b[0;36minverse_transform\u001b[0;34m(self, X)\u001b[0m\n\u001b[1;32m    572\u001b[0m         )\n\u001b[1;32m    573\u001b[0m \u001b[0;34m\u001b[0m\u001b[0m\n\u001b[0;32m--> 574\u001b[0;31m         \u001b[0mX\u001b[0m \u001b[0;34m-=\u001b[0m \u001b[0mself\u001b[0m\u001b[0;34m.\u001b[0m\u001b[0mmin_\u001b[0m\u001b[0;34m\u001b[0m\u001b[0;34m\u001b[0m\u001b[0m\n\u001b[0m\u001b[1;32m    575\u001b[0m         \u001b[0mX\u001b[0m \u001b[0;34m/=\u001b[0m \u001b[0mself\u001b[0m\u001b[0;34m.\u001b[0m\u001b[0mscale_\u001b[0m\u001b[0;34m\u001b[0m\u001b[0;34m\u001b[0m\u001b[0m\n\u001b[1;32m    576\u001b[0m         \u001b[0;32mreturn\u001b[0m \u001b[0mX\u001b[0m\u001b[0;34m\u001b[0m\u001b[0;34m\u001b[0m\u001b[0m\n",
            "\u001b[0;31mValueError\u001b[0m: non-broadcastable output operand with shape (718,1) doesn't match the broadcast shape (718,3)"
          ]
        }
      ],
      "source": [
        "import pandas as pd\n",
        "import numpy as np\n",
        "import matplotlib.pyplot as plt\n",
        "from sklearn.preprocessing import MinMaxScaler\n",
        "from sklearn.metrics import mean_squared_error, mean_absolute_error, r2_score\n",
        "from sklearn.ensemble import StackingRegressor, RandomForestRegressor\n",
        "from sklearn.linear_model import LinearRegression\n",
        "from xgboost import XGBRegressor\n",
        "from sklearn.model_selection import train_test_split\n",
        "import yfinance as yf\n",
        "from sklearn.model_selection import cross_val_score\n",
        "\n",
        "# Function to create dataset for time series forecasting\n",
        "ticker = 'RELIANCE.NS'  # Example: Reliance Industries Limited\n",
        "data = yf.download(ticker, start='2010-01-01', end='2024-11-01')\n",
        "print(data.tail())  # Print the first few rows of the data\n",
        "print(data.shape)\n",
        "\n",
        "# Preprocess the data\n",
        "data = data[['Close']]\n",
        "data = data.astype('float32')\n",
        "\n",
        "# Add technical indicators\n",
        "def add_technical_indicators(data):\n",
        "    data['SMA'] = data['Close'].rolling(window=14).mean()  # Simple Moving Average\n",
        "    data['Volatility'] = data['Close'].rolling(window=14).std()  # Standard deviation\n",
        "    data = data.dropna()  # Drop NA values after rolling calculations\n",
        "    return data\n",
        "\n",
        "data = add_technical_indicators(data)\n",
        "\n",
        "# Normalize the data\n",
        "scaler = MinMaxScaler(feature_range=(0, 1))\n",
        "data_scaled = scaler.fit_transform(data)\n",
        "\n",
        "# Create a dataset\n",
        "def create_dataset(dataset, time_step=1):\n",
        "    X, Y = [], []\n",
        "    for i in range(len(dataset) - time_step):\n",
        "        X.append(dataset[i:(i + time_step)])\n",
        "        Y.append(dataset[i + time_step, 0])  # Target variable\n",
        "    return np.array(X), np.array(Y)\n",
        "\n",
        "time_step = 60  # Look back 60 days\n",
        "X, y = create_dataset(data_scaled, time_step)\n",
        "\n",
        "# Split the dataset into training and testing sets\n",
        "X_train, X_test, y_train, y_test = train_test_split(X, y, test_size=0.2, shuffle=False)\n",
        "\n",
        "# Train the Stacking Regressor\n",
        "estimators = [\n",
        "    ('rf', RandomForestRegressor(n_estimators=100, random_state=42)),\n",
        "    ('xgb', XGBRegressor(objective='reg:squarederror')),\n",
        "    ('lr', LinearRegression())\n",
        "]\n",
        "\n",
        "stacking_model = StackingRegressor(estimators=estimators, final_estimator=LinearRegression())\n",
        "stacking_model.fit(X_train.reshape(X_train.shape[0], -1), y_train)\n",
        "\n",
        "# Cross-validation\n",
        "cross_val_scores = cross_val_score(stacking_model, X_train.reshape(X_train.shape[0], -1), y_train, cv=5, scoring='neg_mean_squared_error')\n",
        "print(f'Cross-validated RMSE: {np.sqrt(-cross_val_scores.mean()):.2f}')\n",
        "\n",
        "# Get predictions\n",
        "predictions = stacking_model.predict(X_test.reshape(X_test.shape[0], -1))\n",
        "predictions = scaler.inverse_transform(predictions.reshape(-1, 1))  # Inverse the scaling\n",
        "\n",
        "# Calculate metrics\n",
        "rmse = np.sqrt(mean_squared_error(y_test, predictions))\n",
        "mae = mean_absolute_error(y_test, predictions)\n",
        "r2 = r2_score(y_test, predictions)\n",
        "\n",
        "# Print the metrics\n",
        "print(f'RMSE: {rmse:.2f}')\n",
        "print(f'MAE: {mae:.2f}')\n",
        "print(f'R² Score: {r2:.2f}')\n",
        "\n",
        "# Plotting the results\n",
        "plt.figure(figsize=(14, 5))\n",
        "plt.plot(data[len(data) - len(predictions):], label='Actual Prices', color='blue')\n",
        "plt.plot(predictions, label='Predicted Prices', color='red')\n",
        "plt.title(f'Stock Price Prediction for {ticker} using Stacking Regressor (RMSE: {rmse:.2f})')\n",
        "plt.xlabel('Days')\n",
        "plt.ylabel('Stock Price')\n",
        "plt.legend()\n",
        "plt.show()"
      ]
    }
  ],
  "metadata": {
    "accelerator": "TPU",
    "colab": {
      "gpuType": "V28",
      "provenance": []
    },
    "kernelspec": {
      "display_name": "Python 3",
      "name": "python3"
    },
    "language_info": {
      "name": "python"
    }
  },
  "nbformat": 4,
  "nbformat_minor": 0
}